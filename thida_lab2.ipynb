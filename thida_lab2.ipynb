{
 "cells": [
  {
   "cell_type": "code",
   "execution_count": 1,
   "metadata": {},
   "outputs": [
    {
     "name": "stdout",
     "output_type": "stream",
     "text": [
      "Hello world !!\n"
     ]
    }
   ],
   "source": [
    "print(\"Hello world !!\")"
   ]
  },
  {
   "cell_type": "code",
   "execution_count": 2,
   "metadata": {},
   "outputs": [
    {
     "name": "stdout",
     "output_type": "stream",
     "text": [
      "You're eligible to vote.\n"
     ]
    }
   ],
   "source": [
    "age = input('Enter your age :')\n",
    "if int(age)>= 18:\n",
    "    print(\"You're eligible to vote.\")\n",
    "else:\n",
    "    print(\"Your're not eligible to vote.\")\n"
   ]
  },
  {
   "cell_type": "code",
   "execution_count": 3,
   "metadata": {},
   "outputs": [
    {
     "name": "stdout",
     "output_type": "stream",
     "text": [
      "You'll pay $18 for the ticket\n"
     ]
    }
   ],
   "source": [
    "ge = input(\"Enter your age: \")\n",
    "\n",
    "your_age = int(age)\n",
    "if your_age < 5:\n",
    "    ticket_price = 5\n",
    "elif your_age < 16:\n",
    "    ticket_price = 10\n",
    "else:\n",
    "    ticket_price = 18\n",
    "\n",
    "print(f\"You'll pay ${ticket_price} for the ticket\")"
   ]
  },
  {
   "cell_type": "code",
   "execution_count": 4,
   "metadata": {},
   "outputs": [
    {
     "name": "stdout",
     "output_type": "stream",
     "text": [
      "Hi\n"
     ]
    }
   ],
   "source": [
    "def greet():\n",
    "    print(\"Hi\")\n",
    "\n",
    "greet()"
   ]
  },
  {
   "cell_type": "code",
   "execution_count": 5,
   "metadata": {},
   "outputs": [
    {
     "name": "stdout",
     "output_type": "stream",
     "text": [
      "50\n"
     ]
    }
   ],
   "source": [
    "def sum(a,b):\n",
    "    return a + b\n",
    "total = sum(20,30)\n",
    "print(total)"
   ]
  },
  {
   "cell_type": "code",
   "execution_count": 6,
   "metadata": {},
   "outputs": [
    {
     "name": "stdout",
     "output_type": "stream",
     "text": [
      "['purple', 'white', 'Black']\n",
      "[[0, 0], [100, 100], [200, 200]]\n",
      "6\n",
      "10\n"
     ]
    }
   ],
   "source": [
    "colors=['purple','white','Black']\n",
    "print(colors)\n",
    "\n",
    "coordinates = [[0,0],[100,100],[200,200]]\n",
    "print(coordinates)\n",
    "\n",
    "numbers = [1,3,4,6,7,10]\n",
    "print(numbers[3])\n",
    "print(numbers[-1])"
   ]
  },
  {
   "cell_type": "code",
   "execution_count": 7,
   "metadata": {},
   "outputs": [
    {
     "name": "stdout",
     "output_type": "stream",
     "text": [
      "[1, 2, 5, 12, 14, 16]\n"
     ]
    }
   ],
   "source": [
    "numbers =[1,2,4,12,14,16]\n",
    "numbers[2]=5\n",
    "\n",
    "print(numbers)"
   ]
  },
  {
   "cell_type": "code",
   "execution_count": 8,
   "metadata": {},
   "outputs": [
    {
     "name": "stdout",
     "output_type": "stream",
     "text": [
      "[1, 3, 5, 7, 9, 12, 16, 100]\n",
      "[1, 3, 5, 70, 7, 9, 12, 16]\n"
     ]
    }
   ],
   "source": [
    "numbers = [1,3,5,7,9,12,16]\n",
    "numbers.append(100)\n",
    "\n",
    "print(numbers)\n",
    "\n",
    "numbers = [1,3,5,7,9,12,16]\n",
    "numbers.insert(3,70)\n",
    "\n",
    "print(numbers)"
   ]
  },
  {
   "cell_type": "code",
   "execution_count": 9,
   "metadata": {},
   "outputs": [
    {
     "name": "stdout",
     "output_type": "stream",
     "text": [
      "[3, 7, 9, 4]\n"
     ]
    }
   ],
   "source": [
    "numbers =[1,3,7,9,4]\n",
    "del numbers[0]\n",
    "\n",
    "print(numbers)"
   ]
  },
  {
   "cell_type": "code",
   "execution_count": 10,
   "metadata": {},
   "outputs": [
    {
     "name": "stdout",
     "output_type": "stream",
     "text": [
      "[1, 4, 5, 6, 7, 9]\n"
     ]
    }
   ],
   "source": [
    "numbers = [1,3,4,5,6,7,9]\n",
    "numbers.remove(3)\n",
    "\n",
    "print(numbers)"
   ]
  },
  {
   "cell_type": "code",
   "execution_count": 11,
   "metadata": {},
   "outputs": [
    {
     "name": "stdout",
     "output_type": "stream",
     "text": [
      "red\n",
      "green\n",
      "blue\n"
     ]
    }
   ],
   "source": [
    "rgb=('red','green','blue')\n",
    "\n",
    "print(rgb[0])\n",
    "print(rgb[1])\n",
    "print(rgb[2])"
   ]
  },
  {
   "cell_type": "code",
   "execution_count": 12,
   "metadata": {},
   "outputs": [
    {
     "name": "stdout",
     "output_type": "stream",
     "text": [
      "[1, 4, 9, 16, 25]\n",
      "[4, 9, 16, 25, 36]\n"
     ]
    }
   ],
   "source": [
    "numbers=[1,2,3,4,5]\n",
    "\n",
    "squares=[]\n",
    "for number in numbers:\n",
    "    squares.append(number**2)\n",
    "print(squares)\n",
    "\n",
    "numbers=[2,3,4,5,6]\n",
    "squares = [number**2 for number in numbers]\n",
    "\n",
    "print(squares)"
   ]
  },
  {
   "cell_type": "code",
   "execution_count": 14,
   "metadata": {},
   "outputs": [
    {
     "name": "stdout",
     "output_type": "stream",
     "text": [
      "Thida\n",
      "Ra\n",
      "21\n",
      "['purple', 'black']\n",
      "True\n",
      "{'first_name': 'Thida', 'last_name': 'Ra', 'age': 21, 'favorite_color': ['purple', 'black'], 'active': True, 'Gender': 'female'}\n",
      "{'first_name': 'Thida', 'last_name': 'Ra', 'age': 21, 'favorite_color': ['purple', 'black'], 'Gender': 'female'}\n"
     ]
    }
   ],
   "source": [
    "person={\n",
    "    'first_name':'Thida',\n",
    "    'last_name' : 'Ra',\n",
    "    'age' : 21,\n",
    "    'favorite_color':['purple','black'],\n",
    "    'active': True\n",
    "    \n",
    "}\n",
    "print(person[\"first_name\"])\n",
    "print(person[\"last_name\"])\n",
    "print(person[\"age\"])\n",
    "print(person[\"favorite_color\"])\n",
    "print(person[\"active\"])\n",
    "person['Gender']= 'female'\n",
    "print(person)\n",
    "\n",
    "del person['active']\n",
    "print(person)"
   ]
  },
  {
   "cell_type": "code",
   "execution_count": 15,
   "metadata": {},
   "outputs": [
    {
     "name": "stdout",
     "output_type": "stream",
     "text": [
      "{'AAPL': 123.42, 'AMZN': 3447.6, 'MSFT': 285.6, 'BIIB': 223.38, 'QDEL': 271.32, 'LVGO': 146.88}\n"
     ]
    }
   ],
   "source": [
    "stock={\n",
    "    'AAPL': 121,\n",
    "    'AMZN': 3380,\n",
    "    'MSFT': 280,\n",
    "    'BIIB': 219,\n",
    "    'QDEL': 266,\n",
    "    'LVGO': 144\n",
    "}\n",
    "\n",
    "new_stock={}\n",
    "for symbol,price in stock.items():\n",
    "    new_stock[symbol]= price*1.02\n",
    "\n",
    "print(new_stock)"
   ]
  },
  {
   "cell_type": "code",
   "execution_count": 16,
   "metadata": {},
   "outputs": [
    {
     "name": "stdout",
     "output_type": "stream",
     "text": [
      "{'AAPL': 123.42, 'AMZN': 3447.6, 'MSFT': 285.6, 'BIIB': 223.38, 'QDEL': 271.32, 'LVGO': 146.88}\n"
     ]
    }
   ],
   "source": [
    "stock={\n",
    "    'AAPL': 121,\n",
    "    'AMZN': 3380,\n",
    "    'MSFT': 280,\n",
    "    'BIIB': 219,\n",
    "    'QDEL': 266,\n",
    "    'LVGO': 144\n",
    "}\n",
    "new_stock={symbol: price* 1.02 for (symbol,price)in stock.items()}\n",
    "\n",
    "print(new_stock)"
   ]
  }
 ],
 "metadata": {
  "kernelspec": {
   "display_name": "Python 3",
   "language": "python",
   "name": "python3"
  },
  "language_info": {
   "codemirror_mode": {
    "name": "ipython",
    "version": 3
   },
   "file_extension": ".py",
   "mimetype": "text/x-python",
   "name": "python",
   "nbconvert_exporter": "python",
   "pygments_lexer": "ipython3",
   "version": "3.12.1"
  }
 },
 "nbformat": 4,
 "nbformat_minor": 2
}
