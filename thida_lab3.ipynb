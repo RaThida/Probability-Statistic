{
 "cells": [
  {
   "cell_type": "code",
   "execution_count": 10,
   "metadata": {},
   "outputs": [
    {
     "name": "stdout",
     "output_type": "stream",
     "text": [
      "55.6\n"
     ]
    }
   ],
   "source": [
    "# ex1.\n",
    "ls=[59,46,64,49,56,70,45,52,63,52]\n",
    "s=0\n",
    "n=0\n",
    "for i in ls:\n",
    "    s = s+i\n",
    "    n = n+1\n",
    "mean = s/n\n",
    "print(mean)\n",
    "\n"
   ]
  },
  {
   "cell_type": "code",
   "execution_count": 11,
   "metadata": {},
   "outputs": [
    {
     "name": "stdout",
     "output_type": "stream",
     "text": [
      "55.6\n"
     ]
    }
   ],
   "source": [
    "# ex1.\n",
    "ls=[59,46,64,49,56,70,45,52,63,52]\n",
    "mean = sum(ls)/len(ls)\n",
    "print(mean)"
   ]
  },
  {
   "cell_type": "code",
   "execution_count": 12,
   "metadata": {},
   "outputs": [
    {
     "name": "stdout",
     "output_type": "stream",
     "text": [
      "mean = 55.6\n"
     ]
    }
   ],
   "source": [
    "# ex1.\n",
    "def mean(ls):\n",
    "    return sum(ls)/len(ls)\n",
    "data = [59,46,64,49,56,70,45,52,63,52]\n",
    "print (f'mean = {mean(data)}')"
   ]
  },
  {
   "cell_type": "code",
   "execution_count": 9,
   "metadata": {},
   "outputs": [
    {
     "name": "stdout",
     "output_type": "stream",
     "text": [
      "list = 32.0\n",
      "median = 13\n"
     ]
    }
   ],
   "source": [
    "# ex2: number of visit to a class website. Calculate mean and median of below \n",
    "list = [20,37,4,20,0,84,14,365,331,19,0,0,22,3,13,14,36,4,0,18,8,0,26,4,0,5,23,19,7,12,8,13,16,21,7,13,12,8,42]\n",
    "\n",
    "mean = sum(list)/len(list)\n",
    "print(f'list = {mean}')\n",
    "\n",
    "n = len(list)\n",
    "list.sort()\n",
    "if n % 2 == 0:\n",
    "    m1 = list[n//2]\n",
    "    m2 = list[n//2-1]\n",
    "    m = (m1+m2)/2\n",
    "else:\n",
    "    m = list[n//2]\n",
    "print(f'median = {m}')\n",
    "    \n"
   ]
  }
 ],
 "metadata": {
  "kernelspec": {
   "display_name": "Python 3",
   "language": "python",
   "name": "python3"
  },
  "language_info": {
   "codemirror_mode": {
    "name": "ipython",
    "version": 3
   },
   "file_extension": ".py",
   "mimetype": "text/x-python",
   "name": "python",
   "nbconvert_exporter": "python",
   "pygments_lexer": "ipython3",
   "version": "3.12.1"
  }
 },
 "nbformat": 4,
 "nbformat_minor": 2
}
